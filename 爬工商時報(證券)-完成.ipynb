{
 "cells": [
  {
   "cell_type": "code",
   "execution_count": 2,
   "metadata": {},
   "outputs": [
    {
     "name": "stdout",
     "output_type": "stream",
     "text": [
      "Total Article Number :\n"
     ]
    },
    {
     "data": {
      "text/plain": [
       "15000"
      ]
     },
     "execution_count": 2,
     "metadata": {},
     "output_type": "execute_result"
    }
   ],
   "source": [
    "import requests\n",
    "from bs4 import BeautifulSoup\n",
    "import re\n",
    "import json\n",
    "import pandas as pd\n",
    "\n",
    "urls = []\n",
    "\n",
    "def get_urls():\n",
    "    for i in range(1,1501):\n",
    "        try:\n",
    "            res = requests.get(f'https://ctee.com.tw/category/news/stock/page/{i}')\n",
    "            soup = BeautifulSoup(res.text,'html.parser')\n",
    "            a_s = soup.select('div > h2 > a')\n",
    "            for a in a_s:\n",
    "                urls.append(a.get('href'))\n",
    "            \n",
    "            break\n",
    "        except:\n",
    "            print('Error')\n",
    "            print(f'https://ctee.com.tw/category/news/stock/page/{i}')\n",
    "\n",
    "\n",
    "get_urls()\n",
    "#print(urls)\n",
    "print(\"Total Article Number :\")\n",
    "len(urls)"
   ]
  },
  {
   "cell_type": "code",
   "execution_count": null,
   "metadata": {},
   "outputs": [],
   "source": [
    "list_url = []\n",
    "list_title = []\n",
    "list_article = []\n",
    "list_author = []\n",
    "list_date = []\n",
    "\n",
    "def get_content():\n",
    "    for url in urls:\n",
    "        res = requests.get(url)\n",
    "        soup_link = BeautifulSoup(res.text,'html.parser')\n",
    "        list_url.append(url)\n",
    "        list_article.append(soup_link.select('div.entry-content.clearfix.single-post-content')[0].get_text().replace('\\u3000','').replace('\\n',''))\n",
    "        list_date.append(soup_link.select('time > b')[0].get_text())\n",
    "        list_author.append(soup_link.select('div.author-title.heading-typo > a > span')[0].get_text())\n",
    "        list_title.append(soup_link.select('h1 > span')[0].get_text())\n",
    "    \n",
    "get_content()\n",
    "\n",
    "#print(list_url)\n",
    "#print(list_title)\n",
    "#print(list_article)\n",
    "#print(list_author)\n",
    "#print(list_date)"
   ]
  },
  {
   "cell_type": "code",
   "execution_count": null,
   "metadata": {},
   "outputs": [],
   "source": [
    "df = pd.DataFrame(\n",
    "{\n",
    "    'URL':list_url,\n",
    "    'Date':list_date,    \n",
    "    'Title': list_title,\n",
    "    'Author':list_author,\n",
    "    'Content': list_article\n",
    "})\n",
    "df"
   ]
  },
  {
   "cell_type": "code",
   "execution_count": null,
   "metadata": {},
   "outputs": [],
   "source": [
    "df.to_csv('C:/Users/Student/notebooks/commercialtimes.csv', index=False)"
   ]
  },
  {
   "cell_type": "code",
   "execution_count": null,
   "metadata": {},
   "outputs": [],
   "source": [
    "df.iloc[:,4]"
   ]
  },
  {
   "cell_type": "code",
   "execution_count": null,
   "metadata": {},
   "outputs": [],
   "source": [
    "print(list_article)"
   ]
  }
 ],
 "metadata": {
  "kernelspec": {
   "display_name": "Python 3",
   "language": "python",
   "name": "python3"
  },
  "language_info": {
   "codemirror_mode": {
    "name": "ipython",
    "version": 3
   },
   "file_extension": ".py",
   "mimetype": "text/x-python",
   "name": "python",
   "nbconvert_exporter": "python",
   "pygments_lexer": "ipython3",
   "version": "3.7.7"
  }
 },
 "nbformat": 4,
 "nbformat_minor": 4
}
